{
  "cells": [
    {
      "cell_type": "markdown",
      "source": [
        "#**Chi-Square Test of Independence**"
      ],
      "metadata": {
        "id": "6MspI_cQ0ZkZ"
      },
      "id": "6MspI_cQ0ZkZ"
    },
    {
      "cell_type": "markdown",
      "source": [
        "# The Chi-Square Test for Independence\n",
        "The chi-square test for independence is a statistical method employed to investigate the presence of a relationship between two categorical variables. This test assesses whether the observed distribution of data significantly deviates from what would be expected if the variables were independent. By comparing the observed and expected frequencies in a contingency table, the chi-square test helps researchers determine if there is a statistically significant association between the two categorical variables. The null hypothesis assumes independence, while a rejection of the null suggests that a relationship exists. This test is widely utilized in various fields, such as medicine, sociology, and market research, providing a valuable tool for understanding the interdependence of categorical variables and guiding further analyses or targeted interventions."
      ],
      "metadata": {
        "id": "iIehGEBDEaHW"
      },
      "id": "iIehGEBDEaHW"
    },
    {
      "cell_type": "markdown",
      "source": [
        "## **Importing the Necessary Libraries and Data**"
      ],
      "metadata": {
        "id": "SCqQbrUZ2iN3"
      },
      "id": "SCqQbrUZ2iN3"
    },
    {
      "cell_type": "code",
      "execution_count": 6,
      "id": "dbacdebc",
      "metadata": {
        "scrolled": true,
        "id": "dbacdebc"
      },
      "outputs": [],
      "source": [
        "import pandas as pd\n",
        "import numpy as np\n",
        "import matplotlib.pyplot as plt\n",
        "from scipy.stats import chi2_contingency"
      ]
    },
    {
      "cell_type": "markdown",
      "source": [
        "# Apply Chi-Square Test\n",
        "The following Python code utilizes the pandas and scipy.stats libraries to perform a chi-square test for independence, examining the relationship between two categorical variables. The initial step involves creating a **contingency table** using the pd.crosstab function, which showcases the frequency distribution of the variables 'lnpos_YN' and 'status'. The contingency table is then displayed, providing an overview of the observed frequencies. Following this, **row percentages** are calculated to offer insights into the relative proportions of each category within the rows. The chi-square test is conducted using chi2_contingency, providing the **chi-squared value, p-value,** and **degrees of freedom**. These statistical outputs help assess whether there is a significant association between the two categorical variables, aiding in the exploration and interpretation of their relationship."
      ],
      "metadata": {
        "id": "7P3zn140ExrE"
      },
      "id": "7P3zn140ExrE"
    },
    {
      "cell_type": "code",
      "source": [
        "df = pd.read_csv(\"/content/BCSprep.csv\")\n",
        "\n",
        "import pandas as pd\n",
        "from scipy.stats import chi2_contingency\n",
        "\n",
        "# Create a contingency table\n",
        "contingency_table = pd.crosstab(df['lnpos_YN'], df['status'])\n",
        "\n",
        "print(\"Contingency Table with Frequencies:\")\n",
        "print(contingency_table)\n",
        "print(\"#\"*60)\n",
        "\n",
        "# Calculate row percentages\n",
        "row_percentages = contingency_table.div(contingency_table.sum(axis=1), axis=0) * 100\n",
        "\n",
        "print(\"\\nRow Percentages:\")\n",
        "print(row_percentages)\n",
        "print(\"#\"*60)\n",
        "\n",
        "# Perform chi-square test\n",
        "chi2, p, dof, expected = chi2_contingency(contingency_table)\n",
        "\n",
        "print(f\"\\nChi-squared value: {chi2}\")\n",
        "print(f\"P-value: {p}\")\n",
        "print(f\"Degrees of freedom: {dof}\")"
      ],
      "metadata": {
        "colab": {
          "base_uri": "https://localhost:8080/"
        },
        "id": "9TaBHSOEDzAz",
        "outputId": "1793056b-6f99-4469-e55d-70eb0771f469"
      },
      "id": "9TaBHSOEDzAz",
      "execution_count": 20,
      "outputs": [
        {
          "output_type": "stream",
          "name": "stdout",
          "text": [
            "Contingency Table with Frequencies:\n",
            "status      0   1\n",
            "lnpos_YN         \n",
            "No        887  42\n",
            "Yes       248  30\n",
            "############################################################\n",
            "\n",
            "Row Percentages:\n",
            "status            0          1\n",
            "lnpos_YN                      \n",
            "No        95.479010   4.520990\n",
            "Yes       89.208633  10.791367\n",
            "############################################################\n",
            "\n",
            "Chi-squared value: 13.900758213995182\n",
            "P-value: 0.00019272070767964805\n",
            "Degrees of freedom: 1\n"
          ]
        }
      ]
    },
    {
      "cell_type": "code",
      "execution_count": 18,
      "id": "27265d6b",
      "metadata": {
        "colab": {
          "base_uri": "https://localhost:8080/",
          "height": 206
        },
        "id": "27265d6b",
        "outputId": "5d810565-e2f1-4e6d-d120-4c62ed7df973"
      },
      "outputs": [
        {
          "output_type": "execute_result",
          "data": {
            "text/plain": [
              "   id  age  pathsize  lnpos  histgrad   er   pr  status       time lnpos_YN  \\\n",
              "0   1   60       NaN      0       3.0  0.0  0.0       0   9.466667       No   \n",
              "1   2   79       NaN      0       NaN  NaN  NaN       0   8.600000       No   \n",
              "2   3   82       NaN      0       2.0  NaN  NaN       0  19.333333       No   \n",
              "3   4   66       NaN      0       2.0  1.0  1.0       0  16.333333       No   \n",
              "4   5   52       NaN      0       3.0  NaN  NaN       0   8.500000       No   \n",
              "\n",
              "  pathsize_Cat  \n",
              "0          NaN  \n",
              "1          NaN  \n",
              "2          NaN  \n",
              "3          NaN  \n",
              "4          NaN  "
            ],
            "text/html": [
              "\n",
              "  <div id=\"df-af801d28-1973-41d9-9c55-29656b0af6dd\" class=\"colab-df-container\">\n",
              "    <div>\n",
              "<style scoped>\n",
              "    .dataframe tbody tr th:only-of-type {\n",
              "        vertical-align: middle;\n",
              "    }\n",
              "\n",
              "    .dataframe tbody tr th {\n",
              "        vertical-align: top;\n",
              "    }\n",
              "\n",
              "    .dataframe thead th {\n",
              "        text-align: right;\n",
              "    }\n",
              "</style>\n",
              "<table border=\"1\" class=\"dataframe\">\n",
              "  <thead>\n",
              "    <tr style=\"text-align: right;\">\n",
              "      <th></th>\n",
              "      <th>id</th>\n",
              "      <th>age</th>\n",
              "      <th>pathsize</th>\n",
              "      <th>lnpos</th>\n",
              "      <th>histgrad</th>\n",
              "      <th>er</th>\n",
              "      <th>pr</th>\n",
              "      <th>status</th>\n",
              "      <th>time</th>\n",
              "      <th>lnpos_YN</th>\n",
              "      <th>pathsize_Cat</th>\n",
              "    </tr>\n",
              "  </thead>\n",
              "  <tbody>\n",
              "    <tr>\n",
              "      <th>0</th>\n",
              "      <td>1</td>\n",
              "      <td>60</td>\n",
              "      <td>NaN</td>\n",
              "      <td>0</td>\n",
              "      <td>3.0</td>\n",
              "      <td>0.0</td>\n",
              "      <td>0.0</td>\n",
              "      <td>0</td>\n",
              "      <td>9.466667</td>\n",
              "      <td>No</td>\n",
              "      <td>NaN</td>\n",
              "    </tr>\n",
              "    <tr>\n",
              "      <th>1</th>\n",
              "      <td>2</td>\n",
              "      <td>79</td>\n",
              "      <td>NaN</td>\n",
              "      <td>0</td>\n",
              "      <td>NaN</td>\n",
              "      <td>NaN</td>\n",
              "      <td>NaN</td>\n",
              "      <td>0</td>\n",
              "      <td>8.600000</td>\n",
              "      <td>No</td>\n",
              "      <td>NaN</td>\n",
              "    </tr>\n",
              "    <tr>\n",
              "      <th>2</th>\n",
              "      <td>3</td>\n",
              "      <td>82</td>\n",
              "      <td>NaN</td>\n",
              "      <td>0</td>\n",
              "      <td>2.0</td>\n",
              "      <td>NaN</td>\n",
              "      <td>NaN</td>\n",
              "      <td>0</td>\n",
              "      <td>19.333333</td>\n",
              "      <td>No</td>\n",
              "      <td>NaN</td>\n",
              "    </tr>\n",
              "    <tr>\n",
              "      <th>3</th>\n",
              "      <td>4</td>\n",
              "      <td>66</td>\n",
              "      <td>NaN</td>\n",
              "      <td>0</td>\n",
              "      <td>2.0</td>\n",
              "      <td>1.0</td>\n",
              "      <td>1.0</td>\n",
              "      <td>0</td>\n",
              "      <td>16.333333</td>\n",
              "      <td>No</td>\n",
              "      <td>NaN</td>\n",
              "    </tr>\n",
              "    <tr>\n",
              "      <th>4</th>\n",
              "      <td>5</td>\n",
              "      <td>52</td>\n",
              "      <td>NaN</td>\n",
              "      <td>0</td>\n",
              "      <td>3.0</td>\n",
              "      <td>NaN</td>\n",
              "      <td>NaN</td>\n",
              "      <td>0</td>\n",
              "      <td>8.500000</td>\n",
              "      <td>No</td>\n",
              "      <td>NaN</td>\n",
              "    </tr>\n",
              "  </tbody>\n",
              "</table>\n",
              "</div>\n",
              "    <div class=\"colab-df-buttons\">\n",
              "\n",
              "  <div class=\"colab-df-container\">\n",
              "    <button class=\"colab-df-convert\" onclick=\"convertToInteractive('df-af801d28-1973-41d9-9c55-29656b0af6dd')\"\n",
              "            title=\"Convert this dataframe to an interactive table.\"\n",
              "            style=\"display:none;\">\n",
              "\n",
              "  <svg xmlns=\"http://www.w3.org/2000/svg\" height=\"24px\" viewBox=\"0 -960 960 960\">\n",
              "    <path d=\"M120-120v-720h720v720H120Zm60-500h600v-160H180v160Zm220 220h160v-160H400v160Zm0 220h160v-160H400v160ZM180-400h160v-160H180v160Zm440 0h160v-160H620v160ZM180-180h160v-160H180v160Zm440 0h160v-160H620v160Z\"/>\n",
              "  </svg>\n",
              "    </button>\n",
              "\n",
              "  <style>\n",
              "    .colab-df-container {\n",
              "      display:flex;\n",
              "      gap: 12px;\n",
              "    }\n",
              "\n",
              "    .colab-df-convert {\n",
              "      background-color: #E8F0FE;\n",
              "      border: none;\n",
              "      border-radius: 50%;\n",
              "      cursor: pointer;\n",
              "      display: none;\n",
              "      fill: #1967D2;\n",
              "      height: 32px;\n",
              "      padding: 0 0 0 0;\n",
              "      width: 32px;\n",
              "    }\n",
              "\n",
              "    .colab-df-convert:hover {\n",
              "      background-color: #E2EBFA;\n",
              "      box-shadow: 0px 1px 2px rgba(60, 64, 67, 0.3), 0px 1px 3px 1px rgba(60, 64, 67, 0.15);\n",
              "      fill: #174EA6;\n",
              "    }\n",
              "\n",
              "    .colab-df-buttons div {\n",
              "      margin-bottom: 4px;\n",
              "    }\n",
              "\n",
              "    [theme=dark] .colab-df-convert {\n",
              "      background-color: #3B4455;\n",
              "      fill: #D2E3FC;\n",
              "    }\n",
              "\n",
              "    [theme=dark] .colab-df-convert:hover {\n",
              "      background-color: #434B5C;\n",
              "      box-shadow: 0px 1px 3px 1px rgba(0, 0, 0, 0.15);\n",
              "      filter: drop-shadow(0px 1px 2px rgba(0, 0, 0, 0.3));\n",
              "      fill: #FFFFFF;\n",
              "    }\n",
              "  </style>\n",
              "\n",
              "    <script>\n",
              "      const buttonEl =\n",
              "        document.querySelector('#df-af801d28-1973-41d9-9c55-29656b0af6dd button.colab-df-convert');\n",
              "      buttonEl.style.display =\n",
              "        google.colab.kernel.accessAllowed ? 'block' : 'none';\n",
              "\n",
              "      async function convertToInteractive(key) {\n",
              "        const element = document.querySelector('#df-af801d28-1973-41d9-9c55-29656b0af6dd');\n",
              "        const dataTable =\n",
              "          await google.colab.kernel.invokeFunction('convertToInteractive',\n",
              "                                                    [key], {});\n",
              "        if (!dataTable) return;\n",
              "\n",
              "        const docLinkHtml = 'Like what you see? Visit the ' +\n",
              "          '<a target=\"_blank\" href=https://colab.research.google.com/notebooks/data_table.ipynb>data table notebook</a>'\n",
              "          + ' to learn more about interactive tables.';\n",
              "        element.innerHTML = '';\n",
              "        dataTable['output_type'] = 'display_data';\n",
              "        await google.colab.output.renderOutput(dataTable, element);\n",
              "        const docLink = document.createElement('div');\n",
              "        docLink.innerHTML = docLinkHtml;\n",
              "        element.appendChild(docLink);\n",
              "      }\n",
              "    </script>\n",
              "  </div>\n",
              "\n",
              "\n",
              "    <div id=\"df-f42c3579-aee8-493b-a2ae-240ea89a13f4\">\n",
              "      <button class=\"colab-df-quickchart\" onclick=\"quickchart('df-f42c3579-aee8-493b-a2ae-240ea89a13f4')\"\n",
              "                title=\"Suggest charts\"\n",
              "                style=\"display:none;\">\n",
              "\n",
              "<svg xmlns=\"http://www.w3.org/2000/svg\" height=\"24px\"viewBox=\"0 0 24 24\"\n",
              "     width=\"24px\">\n",
              "    <g>\n",
              "        <path d=\"M19 3H5c-1.1 0-2 .9-2 2v14c0 1.1.9 2 2 2h14c1.1 0 2-.9 2-2V5c0-1.1-.9-2-2-2zM9 17H7v-7h2v7zm4 0h-2V7h2v10zm4 0h-2v-4h2v4z\"/>\n",
              "    </g>\n",
              "</svg>\n",
              "      </button>\n",
              "\n",
              "<style>\n",
              "  .colab-df-quickchart {\n",
              "      --bg-color: #E8F0FE;\n",
              "      --fill-color: #1967D2;\n",
              "      --hover-bg-color: #E2EBFA;\n",
              "      --hover-fill-color: #174EA6;\n",
              "      --disabled-fill-color: #AAA;\n",
              "      --disabled-bg-color: #DDD;\n",
              "  }\n",
              "\n",
              "  [theme=dark] .colab-df-quickchart {\n",
              "      --bg-color: #3B4455;\n",
              "      --fill-color: #D2E3FC;\n",
              "      --hover-bg-color: #434B5C;\n",
              "      --hover-fill-color: #FFFFFF;\n",
              "      --disabled-bg-color: #3B4455;\n",
              "      --disabled-fill-color: #666;\n",
              "  }\n",
              "\n",
              "  .colab-df-quickchart {\n",
              "    background-color: var(--bg-color);\n",
              "    border: none;\n",
              "    border-radius: 50%;\n",
              "    cursor: pointer;\n",
              "    display: none;\n",
              "    fill: var(--fill-color);\n",
              "    height: 32px;\n",
              "    padding: 0;\n",
              "    width: 32px;\n",
              "  }\n",
              "\n",
              "  .colab-df-quickchart:hover {\n",
              "    background-color: var(--hover-bg-color);\n",
              "    box-shadow: 0 1px 2px rgba(60, 64, 67, 0.3), 0 1px 3px 1px rgba(60, 64, 67, 0.15);\n",
              "    fill: var(--button-hover-fill-color);\n",
              "  }\n",
              "\n",
              "  .colab-df-quickchart-complete:disabled,\n",
              "  .colab-df-quickchart-complete:disabled:hover {\n",
              "    background-color: var(--disabled-bg-color);\n",
              "    fill: var(--disabled-fill-color);\n",
              "    box-shadow: none;\n",
              "  }\n",
              "\n",
              "  .colab-df-spinner {\n",
              "    border: 2px solid var(--fill-color);\n",
              "    border-color: transparent;\n",
              "    border-bottom-color: var(--fill-color);\n",
              "    animation:\n",
              "      spin 1s steps(1) infinite;\n",
              "  }\n",
              "\n",
              "  @keyframes spin {\n",
              "    0% {\n",
              "      border-color: transparent;\n",
              "      border-bottom-color: var(--fill-color);\n",
              "      border-left-color: var(--fill-color);\n",
              "    }\n",
              "    20% {\n",
              "      border-color: transparent;\n",
              "      border-left-color: var(--fill-color);\n",
              "      border-top-color: var(--fill-color);\n",
              "    }\n",
              "    30% {\n",
              "      border-color: transparent;\n",
              "      border-left-color: var(--fill-color);\n",
              "      border-top-color: var(--fill-color);\n",
              "      border-right-color: var(--fill-color);\n",
              "    }\n",
              "    40% {\n",
              "      border-color: transparent;\n",
              "      border-right-color: var(--fill-color);\n",
              "      border-top-color: var(--fill-color);\n",
              "    }\n",
              "    60% {\n",
              "      border-color: transparent;\n",
              "      border-right-color: var(--fill-color);\n",
              "    }\n",
              "    80% {\n",
              "      border-color: transparent;\n",
              "      border-right-color: var(--fill-color);\n",
              "      border-bottom-color: var(--fill-color);\n",
              "    }\n",
              "    90% {\n",
              "      border-color: transparent;\n",
              "      border-bottom-color: var(--fill-color);\n",
              "    }\n",
              "  }\n",
              "</style>\n",
              "\n",
              "      <script>\n",
              "        async function quickchart(key) {\n",
              "          const quickchartButtonEl =\n",
              "            document.querySelector('#' + key + ' button');\n",
              "          quickchartButtonEl.disabled = true;  // To prevent multiple clicks.\n",
              "          quickchartButtonEl.classList.add('colab-df-spinner');\n",
              "          try {\n",
              "            const charts = await google.colab.kernel.invokeFunction(\n",
              "                'suggestCharts', [key], {});\n",
              "          } catch (error) {\n",
              "            console.error('Error during call to suggestCharts:', error);\n",
              "          }\n",
              "          quickchartButtonEl.classList.remove('colab-df-spinner');\n",
              "          quickchartButtonEl.classList.add('colab-df-quickchart-complete');\n",
              "        }\n",
              "        (() => {\n",
              "          let quickchartButtonEl =\n",
              "            document.querySelector('#df-f42c3579-aee8-493b-a2ae-240ea89a13f4 button');\n",
              "          quickchartButtonEl.style.display =\n",
              "            google.colab.kernel.accessAllowed ? 'block' : 'none';\n",
              "        })();\n",
              "      </script>\n",
              "    </div>\n",
              "\n",
              "    </div>\n",
              "  </div>\n"
            ],
            "application/vnd.google.colaboratory.intrinsic+json": {
              "type": "dataframe",
              "variable_name": "df",
              "summary": "{\n  \"name\": \"df\",\n  \"rows\": 1207,\n  \"fields\": [\n    {\n      \"column\": \"id\",\n      \"properties\": {\n        \"dtype\": \"number\",\n        \"std\": 359,\n        \"min\": 1,\n        \"max\": 1266,\n        \"num_unique_values\": 1207,\n        \"samples\": [\n          29,\n          193,\n          970\n        ],\n        \"semantic_type\": \"\",\n        \"description\": \"\"\n      }\n    },\n    {\n      \"column\": \"age\",\n      \"properties\": {\n        \"dtype\": \"number\",\n        \"std\": 13,\n        \"min\": 22,\n        \"max\": 88,\n        \"num_unique_values\": 63,\n        \"samples\": [\n          22,\n          37,\n          60\n        ],\n        \"semantic_type\": \"\",\n        \"description\": \"\"\n      }\n    },\n    {\n      \"column\": \"pathsize\",\n      \"properties\": {\n        \"dtype\": \"number\",\n        \"std\": 0.9958565328432745,\n        \"min\": 0.1,\n        \"max\": 7.0,\n        \"num_unique_values\": 54,\n        \"samples\": [\n          1.8,\n          5.2,\n          4.2\n        ],\n        \"semantic_type\": \"\",\n        \"description\": \"\"\n      }\n    },\n    {\n      \"column\": \"lnpos\",\n      \"properties\": {\n        \"dtype\": \"number\",\n        \"std\": 2,\n        \"min\": 0,\n        \"max\": 35,\n        \"num_unique_values\": 21,\n        \"samples\": [\n          0,\n          9,\n          13\n        ],\n        \"semantic_type\": \"\",\n        \"description\": \"\"\n      }\n    },\n    {\n      \"column\": \"histgrad\",\n      \"properties\": {\n        \"dtype\": \"number\",\n        \"std\": 0.607486684555155,\n        \"min\": 1.0,\n        \"max\": 3.0,\n        \"num_unique_values\": 3,\n        \"samples\": [\n          3.0,\n          2.0,\n          1.0\n        ],\n        \"semantic_type\": \"\",\n        \"description\": \"\"\n      }\n    },\n    {\n      \"column\": \"er\",\n      \"properties\": {\n        \"dtype\": \"number\",\n        \"std\": 0.48779333260000934,\n        \"min\": 0.0,\n        \"max\": 1.0,\n        \"num_unique_values\": 2,\n        \"samples\": [\n          1.0,\n          0.0\n        ],\n        \"semantic_type\": \"\",\n        \"description\": \"\"\n      }\n    },\n    {\n      \"column\": \"pr\",\n      \"properties\": {\n        \"dtype\": \"number\",\n        \"std\": 0.4984499371128867,\n        \"min\": 0.0,\n        \"max\": 1.0,\n        \"num_unique_values\": 2,\n        \"samples\": [\n          1.0,\n          0.0\n        ],\n        \"semantic_type\": \"\",\n        \"description\": \"\"\n      }\n    },\n    {\n      \"column\": \"status\",\n      \"properties\": {\n        \"dtype\": \"number\",\n        \"std\": 0,\n        \"min\": 0,\n        \"max\": 1,\n        \"num_unique_values\": 2,\n        \"samples\": [\n          1,\n          0\n        ],\n        \"semantic_type\": \"\",\n        \"description\": \"\"\n      }\n    },\n    {\n      \"column\": \"time\",\n      \"properties\": {\n        \"dtype\": \"number\",\n        \"std\": 29.638976527794973,\n        \"min\": 2.633333333,\n        \"max\": 133.8,\n        \"num_unique_values\": 966,\n        \"samples\": [\n          20.46666667,\n          50.36666667\n        ],\n        \"semantic_type\": \"\",\n        \"description\": \"\"\n      }\n    },\n    {\n      \"column\": \"lnpos_YN\",\n      \"properties\": {\n        \"dtype\": \"category\",\n        \"num_unique_values\": 2,\n        \"samples\": [\n          \"Yes\",\n          \"No\"\n        ],\n        \"semantic_type\": \"\",\n        \"description\": \"\"\n      }\n    },\n    {\n      \"column\": \"pathsize_Cat\",\n      \"properties\": {\n        \"dtype\": \"category\",\n        \"num_unique_values\": 3,\n        \"samples\": [\n          \"<= 2\",\n          \"2 <  <= 5\"\n        ],\n        \"semantic_type\": \"\",\n        \"description\": \"\"\n      }\n    }\n  ]\n}"
            }
          },
          "metadata": {},
          "execution_count": 18
        }
      ],
      "source": [
        "# Print data head\n",
        "df.head()"
      ]
    },
    {
      "cell_type": "markdown",
      "source": [
        "# Evaluate the Reliability of Chi-Square Independence Test\n",
        "In the context of the chi-square independence test, assessing the \"Percentage of cells with expected counts less than 5\" serves as a critical gauge for the test's reliability. The chi-square test relies on the assumption that expected counts in each cell of the contingency table are sufficiently large. Specifically, when no more than 20% of the expected counts fall below 5, and all individual expected counts are 1 or greater, it is deemed safe to use the chi-square test with critical values from the chi-square distribution. This criterion acts as a safeguard, ensuring that the test's approximation remains accurate and trustworthy. However, vigilance is advised when a substantial proportion of cells falls below these thresholds, prompting researchers to consider alternative statistical methods, such as Fisher's Exact Test, to uphold the integrity of the analysis."
      ],
      "metadata": {
        "id": "AkaLiZgDFftL"
      },
      "id": "AkaLiZgDFftL"
    },
    {
      "cell_type": "code",
      "execution_count": 21,
      "id": "338ca605",
      "metadata": {
        "colab": {
          "base_uri": "https://localhost:8080/"
        },
        "id": "338ca605",
        "outputId": "80613d73-b09f-4e74-c14e-48f59126195b"
      },
      "outputs": [
        {
          "output_type": "stream",
          "name": "stdout",
          "text": [
            "Percentage of cells with expected counts less than 5: 0.00%\n"
          ]
        }
      ],
      "source": [
        "# Calculate the percentage of cells with expected counts less than 5\n",
        "percentage_low_expected = (expected < 5).sum().sum() / (expected.shape[0] * expected.shape[1]) * 100\n",
        "\n",
        "print(f\"Percentage of cells with expected counts less than 5: {percentage_low_expected:.2f}%\")\n"
      ]
    },
    {
      "cell_type": "markdown",
      "source": [
        "# Check Residuals\n",
        "In the analysis of contingency tables, residuals play a crucial role in investigating the direction and magnitude of relationships between two categorical variables. Residuals in this context refer to the differences between the observed and expected frequencies in each cell of the contingency table. These differences provide insights into whether the observed counts are higher or lower than what would be expected under the assumption of independence. Positive residuals suggest an overrepresentation of observations in a particular cell, indicating a potential positive association, while negative residuals signify an underrepresentation. By examining the pattern of residuals across the table, researchers can discern which cells contribute most to the observed association, helping to unveil the direction and strength of the relationship between the variables. This nuanced exploration enhances the interpretability of the chi-square test results and guides a more detailed understanding of the underlying categorical data dynamics."
      ],
      "metadata": {
        "id": "YC5vPWyJFsWl"
      },
      "id": "YC5vPWyJFsWl"
    },
    {
      "cell_type": "code",
      "execution_count": 22,
      "id": "0bc7253a",
      "metadata": {
        "colab": {
          "base_uri": "https://localhost:8080/"
        },
        "id": "0bc7253a",
        "outputId": "d9ed3d31-d663-4242-e35b-ecbd1c64f2ca"
      },
      "outputs": [
        {
          "output_type": "stream",
          "name": "stdout",
          "text": [
            "\n",
            "Residuals (Observed - Expected):\n",
            "status            0          1\n",
            "lnpos_YN                      \n",
            "No        13.416736 -13.416736\n",
            "Yes      -13.416736  13.416736\n"
          ]
        }
      ],
      "source": [
        "# Calculate residuals (observed minus expected values)\n",
        "residuals = contingency_table - expected\n",
        "\n",
        "print(\"\\nResiduals (Observed - Expected):\")\n",
        "print(residuals)"
      ]
    },
    {
      "cell_type": "markdown",
      "source": [
        "# Calculate the Odds Ratio\n",
        "The odds ratio is a valuable measure in the context of dependence tests, providing a quantitative assessment of the strength and direction of the relationship between two categorical variables. Specifically, in the chi-square independence test, the odds ratio helps to explain how the odds of an event occurring in one category compare to the odds in another category. An odds ratio greater than 1 indicates an association between the variables, with higher values signifying a stronger relationship. Conversely, an odds ratio less than 1 suggests a negative association. The odds ratio adds a layer of granularity to dependence analyses, allowing researchers to not only discern the presence of an association but also gauge its magnitude. This measure is particularly valuable in fields like epidemiology and social sciences, where understanding the strength of relationships between categorical variables is crucial for drawing meaningful conclusions from observational data."
      ],
      "metadata": {
        "id": "8DtV8p6CF5Ll"
      },
      "id": "8DtV8p6CF5Ll"
    },
    {
      "cell_type": "code",
      "execution_count": 23,
      "id": "a445287c",
      "metadata": {
        "colab": {
          "base_uri": "https://localhost:8080/"
        },
        "id": "a445287c",
        "outputId": "cedc10b7-3219-4861-8d23-0e007392292e"
      },
      "outputs": [
        {
          "output_type": "stream",
          "name": "stdout",
          "text": [
            "status      0   1\n",
            "lnpos_YN         \n",
            "No        887  42\n",
            "Yes       248  30\n",
            "Odds ratio: 2.55\n"
          ]
        }
      ],
      "source": [
        "# Calculate odds ratio\n",
        "odds_ratio = (contingency_table.iloc[0, 0] / contingency_table.iloc[0, 1]) / (contingency_table.iloc[1, 0] / contingency_table.iloc[1, 1])\n",
        "\n",
        "print(contingency_table)\n",
        "print(f\"Odds ratio: {odds_ratio:.2f}\")"
      ]
    },
    {
      "cell_type": "markdown",
      "source": [
        "# The Odds Ratio Confidence Interval\n",
        "The odds ratio confidence interval provides a range of plausible values for the true odds ratio, allowing for a more nuanced interpretation of the association between variables. When the 95% confidence interval includes the null value of 1, it implies that the odds of the outcome are not significantly different between the exposed and unexposed groups. In contrast, if the interval does not encompass 1, it suggests a statistically significant association. This comparison to the null value serves as a basis for hypothesis testing, with values crossing the null point indicating the absence of a meaningful effect, while values outside this range signify a potential impact, informing researchers about the significance and direction of the observed relationship."
      ],
      "metadata": {
        "id": "4-E29BWyGE8c"
      },
      "id": "4-E29BWyGE8c"
    },
    {
      "cell_type": "code",
      "execution_count": 24,
      "id": "64168452",
      "metadata": {
        "id": "64168452"
      },
      "outputs": [],
      "source": [
        "import numpy as np\n",
        "import pandas as pd\n",
        "from scipy.stats import norm\n",
        "\n",
        "def OR_CIs(contingency_table):\n",
        "\n",
        "    # Calculate odds ratio\n",
        "    odds_ratio = (contingency_table.iloc[0, 0] / contingency_table.iloc[0, 1]) / (contingency_table.iloc[1, 0] / contingency_table.iloc[1, 1])\n",
        "\n",
        "    # Calculate standard error of log(odds ratio)\n",
        "    log_odds_std_error = np.sqrt(contingency_table.applymap(lambda x: 1/x).sum().sum())\n",
        "\n",
        "    # Set confidence level\n",
        "    confidence_level = 0.95\n",
        "\n",
        "    # Calculate z-score for the confidence interval\n",
        "    z_score = norm.ppf(1-(1 - confidence_level) / 2)\n",
        "\n",
        "    # Calculate confidence intervals\n",
        "    ci_low = np.exp(np.log(odds_ratio) - z_score * log_odds_std_error)\n",
        "    ci_high = np.exp(np.log(odds_ratio) + z_score * log_odds_std_error)\n",
        "\n",
        "    # Print the results\n",
        "    print(f\"Odds Ratio: {odds_ratio:.2f}\")\n",
        "    print(f\"95% Confidence Interval: {ci_low:.2f}, {ci_high:.2f}\")\n",
        "\n",
        "    return"
      ]
    },
    {
      "cell_type": "code",
      "execution_count": null,
      "id": "93198d7b",
      "metadata": {
        "colab": {
          "base_uri": "https://localhost:8080/",
          "height": 561
        },
        "id": "93198d7b",
        "outputId": "7f1df1b2-123c-476a-b6ce-f5dbe0096559"
      },
      "outputs": [
        {
          "output_type": "display_data",
          "data": {
            "text/plain": [
              "<Figure size 640x480 with 1 Axes>"
            ],
            "image/png": "[encoded data removed]"
          },
          "metadata": {}
        }
      ],
      "source": [
        "# Plot clustered bar chart to visualize\n",
        "df_crosstab.plot.bar(rot=0)\n",
        "plt.xticks(rotation=90)\n",
        "plt.show()"
      ]
    },
    {
      "cell_type": "markdown",
      "source": [
        "# The Fisher's Exact Test\n",
        "The Fisher's Exact Test is a statistical method employed when analyzing contingency tables, particularly in cases where sample sizes are small or when the assumptions of the chi-square test are not met. This test is particularly robust for 2x2 tables but can be extended to larger tables as well. Unlike the chi-square test, which relies on approximations based on large sample theory, the Fisher's Exact Test calculates the exact probability of observing the given table, making it highly suitable for situations with limited data. By determining the probability of obtaining the observed distribution or more extreme distributions under the assumption of independence, the Fisher's Exact Test offers a precise assessment of the association between categorical variables. This makes it particularly valuable in research areas such as clinical trials, genetics, and rare event studies, where sample sizes may be small, and accurate inference is paramount."
      ],
      "metadata": {
        "id": "EYqYQ8Dn3E2Y"
      },
      "id": "EYqYQ8Dn3E2Y"
    },
    {
      "cell_type": "code",
      "execution_count": 25,
      "id": "11e10caf",
      "metadata": {
        "id": "11e10caf",
        "colab": {
          "base_uri": "https://localhost:8080/"
        },
        "outputId": "97482e7c-69be-41ea-b4d1-157aea8efa8f"
      },
      "outputs": [
        {
          "output_type": "stream",
          "name": "stdout",
          "text": [
            "Odds ratio: 2.5547235023041477\n",
            "P-value: 0.000260301037684315\n"
          ]
        }
      ],
      "source": [
        "import pandas as pd\n",
        "from scipy.stats import fisher_exact\n",
        "\n",
        "# Create a 2x2 contingency table without margins\n",
        "contingency_table = pd.crosstab(df['lnpos_YN'], df['status'])\n",
        "\n",
        "# Perform Fisher's Exact Test\n",
        "odds_ratio, p_value = fisher_exact(contingency_table)\n",
        "\n",
        "# Print the result\n",
        "print(f\"Odds ratio: {odds_ratio}\")\n",
        "print(f\"P-value: {p_value}\")"
      ]
    },
    {
      "cell_type": "markdown",
      "source": [
        "# Another Example\n",
        "Now, explore the association between 'pathsize_Cat' and 'status' by applying the chi-square test. This analysis will generate a 3x2 contingency table, allowing for the examination of potential dependencies or independencies between the different categories within these two variables."
      ],
      "metadata": {
        "id": "3LRrStaIGxj4"
      },
      "id": "3LRrStaIGxj4"
    },
    {
      "cell_type": "code",
      "execution_count": 26,
      "id": "2c6d8953",
      "metadata": {
        "colab": {
          "base_uri": "https://localhost:8080/"
        },
        "id": "2c6d8953",
        "outputId": "b80b4a95-42a9-43b2-d993-1b657f5823e6"
      },
      "outputs": [
        {
          "output_type": "stream",
          "name": "stdout",
          "text": [
            "Contingency Table with Frequencies:\n",
            "status          0   1\n",
            "pathsize_Cat         \n",
            "<= 2          795  31\n",
            "2 <  <= 5     250  33\n",
            "> 5            10   2\n",
            "############################################################\n",
            "\n",
            "Row Percentages:\n",
            "status                0          1\n",
            "pathsize_Cat                      \n",
            "<= 2          96.246973   3.753027\n",
            "2 <  <= 5     88.339223  11.660777\n",
            "> 5           83.333333  16.666667\n",
            "############################################################\n",
            "\n",
            "Chi-squared value: 26.331382485423475\n",
            "P-value: 1.9151947512693743e-06\n",
            "Degrees of freedom: 2\n",
            "############################################################\n",
            "Percentage of cells with expected counts less than 5: 16.67%\n",
            "############################################################\n",
            "\n",
            "Residuals (Observed - Expected):\n",
            "status                0          1\n",
            "pathsize_Cat                      \n",
            "<= 2          17.631579 -17.631579\n",
            "2 <  <= 5    -16.338091  16.338091\n",
            "> 5           -1.293488   1.293488\n",
            "############################################################\n"
          ]
        }
      ],
      "source": [
        "import pandas as pd\n",
        "from scipy.stats import chi2_contingency\n",
        "\n",
        "# Create a contingency table\n",
        "category_order = ['<= 2', '2 <  <= 5', '> 5']\n",
        "\n",
        "# Convert 'pathsize_Cat' to a categorical variable with the specified order\n",
        "df['pathsize_Cat'] = pd.Categorical(df['pathsize_Cat'], categories=category_order, ordered=True)\n",
        "\n",
        "# Create the contingency table\n",
        "contingency_table = pd.crosstab(df['pathsize_Cat'], df['status'])\n",
        "\n",
        "print(\"Contingency Table with Frequencies:\")\n",
        "print(contingency_table)\n",
        "print(\"#\"*60)\n",
        "\n",
        "# Calculate row percentages\n",
        "row_percentages = contingency_table.div(contingency_table.sum(axis=1), axis=0) * 100\n",
        "\n",
        "print(\"\\nRow Percentages:\")\n",
        "print(row_percentages)\n",
        "print(\"#\"*60)\n",
        "\n",
        "# Perform chi-square test\n",
        "chi2, p, dof, expected = chi2_contingency(contingency_table)\n",
        "\n",
        "print(f\"\\nChi-squared value: {chi2}\")\n",
        "print(f\"P-value: {p}\")\n",
        "print(f\"Degrees of freedom: {dof}\")\n",
        "print(\"#\"*60)\n",
        "\n",
        "# Calculate the percentage of cells with expected counts less than 5\n",
        "percentage_low_expected = (expected < 5).sum().sum() / (expected.shape[0] * expected.shape[1]) * 100\n",
        "\n",
        "print(f\"Percentage of cells with expected counts less than 5: {percentage_low_expected:.2f}%\")\n",
        "print(\"#\"*60)\n",
        "\n",
        "# Calculate residuals (observed minus expected values)\n",
        "residuals = contingency_table - expected\n",
        "\n",
        "print(\"\\nResiduals (Observed - Expected):\")\n",
        "print(residuals)\n",
        "print(\"#\"*60)"
      ]
    },
    {
      "cell_type": "markdown",
      "source": [
        "Due to expected values in the third row of the contingency table being **less than 5** and the **consistent sign** of residuals in the **\"2 < =<5\"** and **\">5\"** categories, indicative of a coherent direction in the relationship between 'pathsize_Cat' and 'status', a decision is made to **merge** these two categories. Consequently, a new variable is introduced to the dataset, simplifying the 'pathsize_Cat' variable into two categories: **\"<2\" and \">2\"**. This consolidation aids in preserving the statistical integrity of the analysis and enhances the interpretability of the relationship between the variables."
      ],
      "metadata": {
        "id": "4iGlfbw3HLhm"
      },
      "id": "4iGlfbw3HLhm"
    },
    {
      "cell_type": "code",
      "source": [
        "# Merge two classes (e.g., merging 'Class2' and 'Class3' into a new class 'MergedClass')\n",
        "df['pathsize_Cat2'] = df['pathsize_Cat'].replace({'> 5': '> 2', '2 <  <= 5': '> 2'})\n",
        "df['pathsize_Cat2'].value_counts()"
      ],
      "metadata": {
        "colab": {
          "base_uri": "https://localhost:8080/",
          "height": 233
        },
        "id": "Li2CWWY0Hht1",
        "outputId": "aff2dc9c-e866-4c22-fb53-9222e7bb260d"
      },
      "id": "Li2CWWY0Hht1",
      "execution_count": 27,
      "outputs": [
        {
          "output_type": "stream",
          "name": "stderr",
          "text": [
            "<ipython-input-27-f69fdeff5f44>:2: FutureWarning: The behavior of Series.replace (and DataFrame.replace) with CategoricalDtype is deprecated. In a future version, replace will only be used for cases that preserve the categories. To change the categories, use ser.cat.rename_categories instead.\n",
            "  df['pathsize_Cat2'] = df['pathsize_Cat'].replace({'> 5': '> 2', '2 <  <= 5': '> 2'})\n"
          ]
        },
        {
          "output_type": "execute_result",
          "data": {
            "text/plain": [
              "pathsize_Cat2\n",
              "<= 2    826\n",
              "> 2     295\n",
              "Name: count, dtype: int64"
            ],
            "text/html": [
              "<div>\n",
              "<style scoped>\n",
              "    .dataframe tbody tr th:only-of-type {\n",
              "        vertical-align: middle;\n",
              "    }\n",
              "\n",
              "    .dataframe tbody tr th {\n",
              "        vertical-align: top;\n",
              "    }\n",
              "\n",
              "    .dataframe thead th {\n",
              "        text-align: right;\n",
              "    }\n",
              "</style>\n",
              "<table border=\"1\" class=\"dataframe\">\n",
              "  <thead>\n",
              "    <tr style=\"text-align: right;\">\n",
              "      <th></th>\n",
              "      <th>count</th>\n",
              "    </tr>\n",
              "    <tr>\n",
              "      <th>pathsize_Cat2</th>\n",
              "      <th></th>\n",
              "    </tr>\n",
              "  </thead>\n",
              "  <tbody>\n",
              "    <tr>\n",
              "      <th>&lt;= 2</th>\n",
              "      <td>826</td>\n",
              "    </tr>\n",
              "    <tr>\n",
              "      <th>&gt; 2</th>\n",
              "      <td>295</td>\n",
              "    </tr>\n",
              "  </tbody>\n",
              "</table>\n",
              "</div><br><label><b>dtype:</b> int64</label>"
            ]
          },
          "metadata": {},
          "execution_count": 27
        }
      ]
    },
    {
      "cell_type": "markdown",
      "source": [
        "Now, with the merged variable, we can implement the chi-square test to assess the relationship between the new variable and 'status'. This analysis provides insights into the potential association between the simplified 'pathsize_Cat' and the outcome variable."
      ],
      "metadata": {
        "id": "XHniS4S7Hmgm"
      },
      "id": "XHniS4S7Hmgm"
    },
    {
      "cell_type": "code",
      "source": [
        "import pandas as pd\n",
        "from scipy.stats import chi2_contingency\n",
        "\n",
        "# Create a contingency table\n",
        "contingency_table = pd.crosstab(df['pathsize_Cat2'], df['status'])\n",
        "\n",
        "print(\"Contingency Table with Frequencies:\")\n",
        "print(contingency_table)\n",
        "print(\"#\"*60)\n",
        "\n",
        "# Calculate row percentages\n",
        "row_percentages = contingency_table.div(contingency_table.sum(axis=1), axis=0) * 100\n",
        "\n",
        "print(\"\\nRow Percentages:\")\n",
        "print(row_percentages)\n",
        "print(\"#\"*60)\n",
        "\n",
        "# Perform chi-square test\n",
        "chi2, p, dof, expected = chi2_contingency(contingency_table)\n",
        "\n",
        "print(f\"\\nChi-squared value: {chi2}\")\n",
        "print(f\"P-value: {p}\")\n",
        "print(f\"Degrees of freedom: {dof}\")\n",
        "print(\"#\"*60)\n",
        "\n",
        "# Calculate the percentage of cells with expected counts less than 5\n",
        "percentage_low_expected = (expected < 5).sum().sum() / (expected.shape[0] * expected.shape[1]) * 100\n",
        "\n",
        "print(f\"Percentage of cells with expected counts less than 5: {percentage_low_expected:.2f}%\")\n",
        "print(\"#\"*60)\n",
        "\n",
        "# Calculate residuals (observed minus expected values)\n",
        "residuals = contingency_table - expected\n",
        "\n",
        "print(\"\\nResiduals (Observed - Expected):\")\n",
        "print(residuals)\n",
        "print(\"#\"*60)\n",
        "\n",
        "# Calculate odds ratio\n",
        "OR_CIs(contingency_table)"
      ],
      "metadata": {
        "colab": {
          "base_uri": "https://localhost:8080/"
        },
        "id": "LUpP677CHoye",
        "outputId": "a570b197-b7f7-4ed1-8951-5f02d8ae797d"
      },
      "id": "LUpP677CHoye",
      "execution_count": 28,
      "outputs": [
        {
          "output_type": "stream",
          "name": "stdout",
          "text": [
            "Contingency Table with Frequencies:\n",
            "status           0   1\n",
            "pathsize_Cat2         \n",
            "<= 2           795  31\n",
            "> 2            260  35\n",
            "############################################################\n",
            "\n",
            "Row Percentages:\n",
            "status                 0          1\n",
            "pathsize_Cat2                      \n",
            "<= 2           96.246973   3.753027\n",
            "> 2            88.135593  11.864407\n",
            "############################################################\n",
            "\n",
            "Chi-squared value: 24.367622791900047\n",
            "P-value: 7.959525236464673e-07\n",
            "Degrees of freedom: 1\n",
            "############################################################\n",
            "Percentage of cells with expected counts less than 5: 0.00%\n",
            "############################################################\n",
            "\n",
            "Residuals (Observed - Expected):\n",
            "status                 0          1\n",
            "pathsize_Cat2                      \n",
            "<= 2           17.631579 -17.631579\n",
            "> 2           -17.631579  17.631579\n",
            "############################################################\n",
            "Odds Ratio: 3.45\n",
            "95% Confidence Interval: 2.09, 5.71\n"
          ]
        },
        {
          "output_type": "stream",
          "name": "stderr",
          "text": [
            "<ipython-input-24-9cc14cff7b56>:11: FutureWarning: DataFrame.applymap has been deprecated. Use DataFrame.map instead.\n",
            "  log_odds_std_error = np.sqrt(contingency_table.applymap(lambda x: 1/x).sum().sum())\n"
          ]
        }
      ]
    },
    {
      "cell_type": "markdown",
      "source": [
        "# The Chi-Square Independence Test for Reports\n",
        "The chi-square independence test is applicable to scenarios where data is presented in the form of a contingency table, showcasing frequencies across different categories. This test is particularly useful when analyzing categorical data that doesn't fit the typical two-column format, allowing for the examination of associations and dependencies between variables presented in tabular form."
      ],
      "metadata": {
        "id": "Isvqc8emH1HZ"
      },
      "id": "Isvqc8emH1HZ"
    },
    {
      "cell_type": "code",
      "source": [
        "import pandas as pd\n",
        "from scipy.stats import chi2_contingency\n",
        "\n",
        "# Example DataFrame with a contingency table\n",
        "data = {\n",
        "    'Status=0': [887, 42],\n",
        "    'Status=1': [248, 30]\n",
        "}\n",
        "\n",
        "df_contingency = pd.DataFrame(data)\n",
        "\n",
        "# Perform chi-square test\n",
        "chi2, p, dof, expected = chi2_contingency(df_contingency)\n",
        "\n",
        "# Print the results\n",
        "print(f\"Chi-squared value: {chi2}\")\n",
        "print(f\"P-value: {p}\")\n",
        "print(f\"Degrees of freedom: {dof}\")\n",
        "print(\"#\"*60)\n",
        "\n",
        "# Calculate the percentage of cells with expected counts less than 5\n",
        "percentage_low_expected = (expected < 5).sum().sum() / (expected.shape[0] * expected.shape[1]) * 100\n",
        "\n",
        "print(f\"Percentage of cells with expected counts less than 5: {percentage_low_expected:.2f}%\")\n",
        "print(\"#\"*60)\n",
        "\n",
        "# Calculate residuals (observed minus expected values)\n",
        "residuals = df_contingency - expected\n",
        "\n",
        "print(\"\\nResiduals (Observed - Expected):\")\n",
        "print(residuals)\n",
        "print(\"#\"*60)\n",
        "\n",
        "# Calculate odds ratio\n",
        "OR_CIs(df_contingency)"
      ],
      "metadata": {
        "colab": {
          "base_uri": "https://localhost:8080/"
        },
        "id": "Hj7Wh-Q7H7N7",
        "outputId": "461bcca4-e617-478a-f593-868777d3336e"
      },
      "id": "Hj7Wh-Q7H7N7",
      "execution_count": 29,
      "outputs": [
        {
          "output_type": "stream",
          "name": "stdout",
          "text": [
            "Chi-squared value: 13.900758213995182\n",
            "P-value: 0.00019272070767964805\n",
            "Degrees of freedom: 1\n",
            "############################################################\n",
            "Percentage of cells with expected counts less than 5: 0.00%\n",
            "############################################################\n",
            "\n",
            "Residuals (Observed - Expected):\n",
            "    Status=0   Status=1\n",
            "0  13.416736 -13.416736\n",
            "1 -13.416736  13.416736\n",
            "############################################################\n",
            "Odds Ratio: 2.55\n",
            "95% Confidence Interval: 1.57, 4.17\n"
          ]
        },
        {
          "output_type": "stream",
          "name": "stderr",
          "text": [
            "<ipython-input-24-9cc14cff7b56>:11: FutureWarning: DataFrame.applymap has been deprecated. Use DataFrame.map instead.\n",
            "  log_odds_std_error = np.sqrt(contingency_table.applymap(lambda x: 1/x).sum().sum())\n"
          ]
        }
      ]
    }
  ],
  "metadata": {
    "kernelspec": {
      "display_name": "Python 3 (ipykernel)",
      "language": "python",
      "name": "python3"
    },
    "language_info": {
      "codemirror_mode": {
        "name": "ipython",
        "version": 3
      },
      "file_extension": ".py",
      "mimetype": "text/x-python",
      "name": "python",
      "nbconvert_exporter": "python",
      "pygments_lexer": "ipython3",
      "version": "3.9.19"
    },
    "colab": {
      "provenance": []
    }
  },
  "nbformat": 4,
  "nbformat_minor": 5
}